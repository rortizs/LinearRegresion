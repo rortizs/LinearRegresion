{
 "metadata": {
  "language_info": {
   "codemirror_mode": {
    "name": "ipython",
    "version": 3
   },
   "file_extension": ".py",
   "mimetype": "text/x-python",
   "name": "python",
   "nbconvert_exporter": "python",
   "pygments_lexer": "ipython3",
   "version": 3
  },
  "orig_nbformat": 2
 },
 "nbformat": 4,
 "nbformat_minor": 2,
 "cells": [
  {
   "cell_type": "code",
   "execution_count": null,
   "metadata": {},
   "outputs": [],
   "source": [
    "import pandas as pandas\n",
    "import matplotlib.pyplot as plt \n",
    "import seaborn as sns\n",
    "from sklearn.linear_model import LinearRegression\n",
    "from scipy.stats import norm\n"
   ]
  },
  {
   "cell_type": "code",
   "execution_count": null,
   "metadata": {},
   "outputs": [],
   "source": [
    "#cargar csv as dataframe\n",
    "df = pandas.read_csv('kc_house_data.csv') #cargar data set\n",
    "print(df.dtypes)"
   ]
  },
  {
   "cell_type": "code",
   "execution_count": null,
   "metadata": {},
   "outputs": [],
   "source": [
    "#matriz de correlacion\n",
    "corrmat = df.corr()\n",
    "f, ax = plt.subplots(figsize=(15,10))\n",
    "sns.heatmap(corrmat, vmax=.9, annot=true)\n",
    "plt.tick_params(colors='white')\n",
    "plt.show()"
   ]
  },
  {
   "cell_type": "code",
   "execution_count": null,
   "metadata": {},
   "outputs": [],
   "source": [
    "#Pronostico futuro\n",
    "corrmat = df.corr()\n",
    "top_corr_features = cormat.index[abs(corrmat[\"price\"]) > 0.5]\n",
    "plt.figure()\n",
    "g = sns.heatmap(df[top_corr_features].corr(), annot=true, cmap=\"RdYlGn\")\n",
    "plt.tick_params(colors='white')\n",
    "plt.show()\n"
   ]
  },
  {
   "cell_type": "code",
   "execution_count": null,
   "metadata": {},
   "outputs": [],
   "source": [
    "#imprimir distribucion normal por precio\n",
    "sns.distplot(df['price'], fit=norm)\n",
    "\n",
    "(mu, sigma) = norm.fit(df['price'])\n",
    "print('\\n mu (media) = {: .2f} and sigma (std des) = {:2f}\\n'.format(mu, sigma))\n",
    "plt.legend(['Normal dist. ($\\mu=$ {:.2f} and $\\sigma=$ {:.2f})]').format(my, sifma)], lco='best')\n",
    "plt.tick_params(colors= 'white')\n",
    "plt.show()"
   ]
  },
  {
   "cell_type": "code",
   "execution_count": null,
   "metadata": {},
   "outputs": [],
   "source": [
    "#Regresion Linear Simple\n",
    "x = df.iloc[:, 5].values.reshape(-1, 1)\n",
    "y = df.iloc[:, 2]\n",
    "\n",
    "LinearRegression = LinearRegression() # creando un objeto para la clase\n",
    "LinearRegression.fit(x, y) \n",
    "Y_pred = LinearRegression.predict(x) #hacemos una prediccion\n",
    "\n",
    "plt.scatter(x,y)\n",
    "plt.title(\"Regresion Linear\")\n",
    "plt.ylabel(\"price\", color='white')\n",
    "plt.xlabel(\"sqft_living\", color='white')\n",
    "plt.plot(x, Y_pred, color='red')\n",
    "plt.tick_params(colors='white', labelcolor='white')\n",
    "plt.show()"
   ]
  }
 ]
}